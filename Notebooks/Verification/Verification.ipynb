{
 "cells": [
  {
   "cell_type": "markdown",
   "metadata": {},
   "source": [
    "# Notebook for verifying optimal paths"
   ]
  },
  {
   "cell_type": "markdown",
   "metadata": {},
   "source": [
    "This is a simple notebook created to verify the created optimal paths with those drawn by avid and professional hikers."
   ]
  },
  {
   "cell_type": "code",
   "execution_count": 40,
   "metadata": {},
   "outputs": [],
   "source": [
    "# Create variables for the map in the project and spatial reference just in case\n",
    "\n",
    "project = arcpy.mp.ArcGISProject(\"CURRENT\")\n",
    "m = project.listMaps(\"Map\")[0]\n",
    "spatial_ref = arcpy.SpatialReference(4326)"
   ]
  },
  {
   "cell_type": "code",
   "execution_count": 41,
   "metadata": {
    "collapsed": true
   },
   "outputs": [
    {
     "data": {
      "text/html": [
       "<div class='gpresult'><h2>Messages</h2><div id='messages' data-messages='[\"Start Time: Saturday, December 16, 2023 2:47:12 PM\",\"Succeeded at Saturday, December 16, 2023 2:47:24 PM (Elapsed Time: 11.80 seconds)\"]' data-show='true'><div id = 'default' /></div></div>"
      ],
      "text/plain": [
       "<Result 'C:\\\\Users\\\\15612\\\\Documents\\\\ArcGIS\\\\Projects\\\\Final Project GIS5571\\\\Final Project GIS5571.gdb\\\\verification_points'>"
      ]
     },
     "execution_count": 41,
     "metadata": {},
     "output_type": "execute_result"
    }
   ],
   "source": [
    "# User enters name of the polyline feature class to compare with created optimal paths\n",
    "lines_name = input(\"Enter name of added polyline feature class for verification analysis: \")\n",
    "\n",
    "# Generate points along this line at 5% intervals\n",
    "arcpy.management.GeneratePointsAlongLines(\n",
    "    Input_Features = lines_name,\n",
    "    Output_Feature_Class = 'verification_points',\n",
    "    Point_Placement = 'PERCENTAGE',\n",
    "    Percentage = 5\n",
    ")"
   ]
  },
  {
   "cell_type": "code",
   "execution_count": 42,
   "metadata": {},
   "outputs": [],
   "source": [
    "# Create a distance accumulation raster to measure distances from the created optimal path\n",
    "\n",
    "dist_accu_verify = arcpy.sa.DistanceAccumulation(\n",
    "    in_source_data = 'Optimal_Path'\n",
    ")"
   ]
  },
  {
   "cell_type": "code",
   "execution_count": 43,
   "metadata": {},
   "outputs": [],
   "source": [
    "# Assign raster cell values to points which intersect with mentioned raster cell\n",
    "\n",
    "dist_accu_value = arcpy.sa.ExtractValuesToPoints(\n",
    "    in_point_features = 'verification_points',\n",
    "    in_raster = 'dist_accu_verify',\n",
    "    out_point_features = 'dist_accu_value'\n",
    ")"
   ]
  },
  {
   "cell_type": "code",
   "execution_count": 44,
   "metadata": {
    "collapsed": true
   },
   "outputs": [
    {
     "data": {
      "text/html": [
       "<div class='gpresult'><h2>Messages</h2><div id='messages' data-messages='[\"Start Time: Saturday, December 16, 2023 2:47:55 PM\",\"WARNING 000728: Field FolderPath does not exist within table\",\"WARNING 000728: Field SymbolID does not exist within table\",\"WARNING 000728: Field AltMode does not exist within table\",\"WARNING 000728: Field Base does not exist within table\",\"WARNING 000728: Field Clamped does not exist within table\",\"WARNING 000728: Field Extruded does not exist within table\",\"WARNING 000728: Field Snippet does not exist within table\",\"WARNING 000728: Field PopupInfo does not exist within table\",\"Succeeded at Saturday, December 16, 2023 2:47:58 PM (Elapsed Time: 3.52 seconds)\"]' data-show='true'><div id = 'default' /></div></div>"
      ],
      "text/plain": [
       "<Result 'dist_accu_value'>"
      ]
     },
     "execution_count": 44,
     "metadata": {},
     "output_type": "execute_result"
    }
   ],
   "source": [
    "# Clean data by deleting extra fields\n",
    "\n",
    "arcpy.management.DeleteField(\n",
    "    in_table = 'dist_accu_value',\n",
    "    drop_field = ['ORIG_FID','Name','FolderPath','SymbolID','AltMode','Base','Clamped','Extruded','Snippet','PopupInfo']\n",
    ")"
   ]
  },
  {
   "cell_type": "code",
   "execution_count": 19,
   "metadata": {
    "collapsed": true
   },
   "outputs": [
    {
     "data": {
      "text/html": [
       "<div class='gpresult'><h2>Messages</h2><div id='messages' data-messages='[\"Start Time: Saturday, December 16, 2023 2:03:17 PM\",\"Succeeded at Saturday, December 16, 2023 2:03:20 PM (Elapsed Time: 3.06 seconds)\"]' data-show='true'><div id = 'default' /></div></div>"
      ],
      "text/plain": [
       "<Result 'C:\\\\Users\\\\15612\\\\Documents\\\\GIS-5571\\\\Final Project\\\\Gannett Peak\\\\Verification\\\\Dist Accu Value Sheet Gannett.xls'>"
      ]
     },
     "execution_count": 19,
     "metadata": {},
     "output_type": "execute_result"
    }
   ],
   "source": [
    "# Create Excel spreadsheet from verification point attribute table\n",
    "\n",
    "arcpy.conversion.TableToExcel(\n",
    "    Input_Table = 'dist_accu_value',\n",
    "    Output_Excel_File = r'C:\\Users\\15612\\Documents\\GIS-5571\\Final Project\\Gannett Peak\\Verification\\Dist Accu Value Sheet Gannett'\n",
    ")"
   ]
  }
 ],
 "metadata": {
  "kernelspec": {
   "display_name": "Python 3 (ipykernel)",
   "language": "python",
   "name": "python3"
  },
  "language_info": {
   "codemirror_mode": {
    "name": "ipython",
    "version": 3
   },
   "file_extension": ".py",
   "mimetype": "text/x-python",
   "name": "python",
   "nbconvert_exporter": "python",
   "pygments_lexer": "ipython3",
   "version": "3.9.13"
  }
 },
 "nbformat": 4,
 "nbformat_minor": 2
}
