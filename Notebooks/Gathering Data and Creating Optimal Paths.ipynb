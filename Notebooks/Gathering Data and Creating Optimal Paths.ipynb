{
 "cells": [
  {
   "cell_type": "markdown",
   "metadata": {},
   "source": [
    "# Using a Weighted Overlay Analysis to Determine Optimal Paths for Summitting\n",
    "\n",
    "### Eric Gibson\n",
    "### GIS 5571: ArcGIS I\n",
    "### December 18, 2023\n",
    "\n",
    "### Abstract\n",
    "\n",
    "   Summiting is a popular activity for hikers, backpackers, and other outdoor enthusiasts. This study uses 10-meter spatial resolution digital elevation models and land cover raster datasets to determine optimal paths for summiteers using an ArcGIS Pro Notebook. Eleven western United States state high points were chosen to create these optimal routes due to their remoteness and degree of difficulty. These paths were created via a proportional weighting of slope angle and a determination of weighting for land cover based on general hiking preferences. Additionally, weighting was performed based on preference of slope over land cover and vice versa. Water features were also considered, including ponds, lakes (both of which were included within the land cover raster dataset), streams, and rivers (created via flow accumulation values). The paths provided helpful instruction for summiting peaks present within this study, however future analyses will be needed with more accurate and additional data from users for more precise and specified outputs."
   ]
  },
  {
   "cell_type": "markdown",
   "metadata": {},
   "source": [
    "## Notebook setup"
   ]
  },
  {
   "cell_type": "code",
   "execution_count": 15,
   "metadata": {
    "collapsed": true
   },
   "outputs": [],
   "source": [
    "from arcpy import env\n",
    "import requests\n",
    "import glob\n",
    "import os\n",
    "import zipfile"
   ]
  },
  {
   "cell_type": "markdown",
   "metadata": {},
   "source": [
    "Establish variables for the ArcGIS Project, Map, and spatial reference."
   ]
  },
  {
   "cell_type": "code",
   "execution_count": null,
   "metadata": {},
   "outputs": [],
   "source": [
    "project = arcpy.mp.ArcGISProject(\"CURRENT\")\n",
    "m = project.listMaps(\"Map\")[0]\n",
    "spatial_ref = arcpy.SpatialReference(4326)"
   ]
  },
  {
   "cell_type": "code",
   "execution_count": 5,
   "metadata": {
    "collapsed": true
   },
   "outputs": [
    {
     "name": "stdout",
     "output_type": "stream",
     "text": [
      "Enter preferred folder directory: C:\\Users\\15612\\Documents\\GIS-5571\\Final Project\n",
      "Stored 'folder' (str)\n",
      "C:\\Users\\15612\\Documents\\GIS-5571\\Final Project\n"
     ]
    }
   ],
   "source": [
    "folder = r'%s' % input('Enter preferred folder directory: ')\n",
    "%store folder\n",
    "\n",
    "print(folder)"
   ]
  },
  {
   "cell_type": "markdown",
   "metadata": {},
   "source": [
    "## Gather Data (ETL Pipeline)"
   ]
  },
  {
   "cell_type": "markdown",
   "metadata": {},
   "source": [
    "Enter coordinates for bounding box of the project:"
   ]
  },
  {
   "cell_type": "code",
   "execution_count": 6,
   "metadata": {
    "collapsed": true
   },
   "outputs": [
    {
     "name": "stdout",
     "output_type": "stream",
     "text": [
      "Enter x-coordinate of east-most side of bounding box: 45.5\n",
      "Enter x-coordinate of west-most side of bounding box: -109.56\n",
      "Enter y-coordinate of north-most side of bounding box: 46.4\n",
      "Enter y-coordinate of south-most side of bounding box: -106.45\n",
      "Stored 'east' (str)\n",
      "Stored 'west' (str)\n",
      "Stored 'north' (str)\n",
      "Stored 'south' (str)\n"
     ]
    }
   ],
   "source": [
    "east = input('Enter x-coordinate of east-most side of bounding box: ')\n",
    "west = input('Enter x-coordinate of west-most side of bounding box: ')\n",
    "north = input('Enter y-coordinate of north-most side of bounding box: ')\n",
    "south = input('Enter y-coordinate of south-most side of bounding box: ')\n",
    "\n",
    "%store east\n",
    "%store west\n",
    "%store north\n",
    "%store south"
   ]
  },
  {
   "cell_type": "code",
   "execution_count": 16,
   "metadata": {
    "collapsed": true
   },
   "outputs": [
    {
     "data": {
      "text/html": [
       "<div class='gpresult'><h2>Messages</h2><div id='messages' data-messages='[\"Start Time: Wednesday, December 6, 2023 11:32:04 AM\",\"Succeeded at Wednesday, December 6, 2023 11:32:05 AM (Elapsed Time: 0.70 seconds)\"]' data-show='true'><div id = 'default' /></div></div>"
      ],
      "text/plain": [
       "<Result 'C:\\\\Users\\\\15612\\\\Documents\\\\ArcGIS\\\\Projects\\\\Final Project GIS5571\\\\Final Project GIS5571.gdb\\\\Bounding_Box'>"
      ]
     },
     "execution_count": 16,
     "metadata": {},
     "output_type": "execute_result"
    }
   ],
   "source": [
    "b_box = arcpy.Polygon(arcpy.Array(\n",
    "    [arcpy.Point(float(east),float(north)),\n",
    "    arcpy.Point(float(west),float(north)),\n",
    "    arcpy.Point(float(west),float(south)),\n",
    "    arcpy.Point(float(east),float(south))]\n",
    "))\n",
    "\n",
    "arcpy.management.CopyFeatures(\n",
    "    b_box,\n",
    "    \"Bounding_Box\"\n",
    ")"
   ]
  },
  {
   "cell_type": "markdown",
   "metadata": {},
   "source": [
    "Enter coordinates for your destination:"
   ]
  },
  {
   "cell_type": "code",
   "execution_count": 37,
   "metadata": {
    "collapsed": true
   },
   "outputs": [
    {
     "name": "stdout",
     "output_type": "stream",
     "text": [
      "{'html_attributions': [], 'results': [{'formatted_address': 'Gannett Peak, Wyoming 82513, United States', 'geometry': {'location': {'lat': 43.1843954, 'lng': -109.6540391}, 'viewport': {'northeast': {'lat': 43.19253080000001, 'lng': -109.6380317}, 'southwest': {'lat': 43.17625899999999, 'lng': -109.6700465}}}, 'icon': 'https://maps.gstatic.com/mapfiles/place_api/icons/v1/png_71/geocode-71.png', 'icon_background_color': '#7B9EB0', 'icon_mask_base_uri': 'https://maps.gstatic.com/mapfiles/place_api/icons/v2/generic_pinlet', 'name': 'Gannett Peak', 'photos': [{'height': 3024, 'html_attributions': ['<a href=\"https://maps.google.com/maps/contrib/111522605089377864134\">A Google User</a>'], 'photo_reference': 'AWU5eFhBwj65DIg_MAcDR7-DmBSOunmZoRaY06XDadDxofCGcn2f4YPtclhsJw1vsGoBxNQU9JfRGMhigFY7feMbh-l_b-FZuS4sgkM08lnhzx4YgbjajcGJhXjvtusFu2SK2THuJN2hgjRGRTf7k0yMwcWkEARL1i3DLelCRoFS1-Kw2Gnw', 'width': 4032}], 'place_id': 'ChIJM3jnbmb5V4cRAxzJ46vPbn8', 'rating': 4.6, 'reference': 'ChIJM3jnbmb5V4cRAxzJ46vPbn8', 'types': ['natural_feature', 'establishment'], 'user_ratings_total': 40}], 'status': 'OK'}\n"
     ]
    }
   ],
   "source": [
    "x_destination = input('Enter x coordinate of desired destination: ')\n",
    "y_destination = input('Enter y coordinate of desired destination: ')"
   ]
  },
  {
   "cell_type": "markdown",
   "metadata": {},
   "source": [
    "Enter coordinates for your starting point:"
   ]
  },
  {
   "cell_type": "code",
   "execution_count": 34,
   "metadata": {
    "collapsed": true
   },
   "outputs": [
    {
     "name": "stdout",
     "output_type": "stream",
     "text": [
      "{'html_attributions': [], 'results': [{'business_status': 'OPERATIONAL', 'formatted_address': 'Forest Rd 650A, Cora, WY 82925, United States', 'geometry': {'location': {'lat': 43.3107957, 'lng': -109.8575453}, 'viewport': {'northeast': {'lat': 43.31216667989273, 'lng': -109.8562174701073}, 'southwest': {'lat': 43.30946702010728, 'lng': -109.8589171298927}}}, 'icon': 'https://maps.gstatic.com/mapfiles/place_api/icons/v1/png_71/park-71.png', 'icon_background_color': '#4DB546', 'icon_mask_base_uri': 'https://maps.gstatic.com/mapfiles/place_api/icons/v2/tree_pinlet', 'name': 'Green River Lakes Recreation Area', 'opening_hours': {'open_now': True}, 'photos': [{'height': 2268, 'html_attributions': ['<a href=\"https://maps.google.com/maps/contrib/100080302452992505051\">Thomas Smith</a>'], 'photo_reference': 'AWU5eFidzdISf7eNB_EHTnoy68jZ7efeM2-jmXx_r7YqhLz_ZcV9lXLFdqCfSI8PKAhIgbzDA5QThHeTitgVudeWW__O0FrlNXXJkyKZbIHrT7SNVWY06k8f0YN27FBA8-6Tdw7ov34cLo0KQsOXikkcUklvPcMNE_SHUDdhD_KoCR3TPMwU', 'width': 4032}], 'place_id': 'ChIJu8BOetCzUlMR4fc2ntVxi5Q', 'rating': 4.8, 'reference': 'ChIJu8BOetCzUlMR4fc2ntVxi5Q', 'types': ['park', 'tourist_attraction', 'point_of_interest', 'establishment'], 'user_ratings_total': 78}], 'status': 'OK'}\n"
     ]
    }
   ],
   "source": [
    "x_starting_point = input('Enter x coordinate of desired starting point: ')\n",
    "y_starting_point = input('Enter y coordinate of desired starting point: ')"
   ]
  },
  {
   "cell_type": "markdown",
   "metadata": {},
   "source": [
    "Create points for the starting and destination points:"
   ]
  },
  {
   "cell_type": "code",
   "execution_count": 39,
   "metadata": {
    "collapsed": true
   },
   "outputs": [
    {
     "data": {
      "text/html": [
       "<div class='gpresult'><h2>Messages</h2><div id='messages' data-messages='[\"Start Time: Saturday, December 16, 2023 2:46:38 PM\",\"Succeeded at Saturday, December 16, 2023 2:46:44 PM (Elapsed Time: 6.15 seconds)\"]' data-show='true'><div id = 'default' /></div></div>"
      ],
      "text/plain": [
       "<Result 'C:\\\\Users\\\\15612\\\\Documents\\\\ArcGIS\\\\Projects\\\\Final Project GIS5571\\\\Final Project GIS5571.gdb\\\\Gannett_Peak'>"
      ]
     },
     "execution_count": 39,
     "metadata": {},
     "output_type": "execute_result"
    }
   ],
   "source": [
    "# Create a point for the destination within the ArcGIS Pro map\n",
    "\n",
    "destination = arcpy.PointGeometry(\n",
    "    arcpy.Point(float(x_destination),float(y_destination)),\n",
    "    spatial_reference = spatial_ref\n",
    ")\n",
    "\n",
    "arcpy.management.CopyFeatures(\n",
    "    destination,\n",
    "    'Destination'\n",
    ")"
   ]
  },
  {
   "cell_type": "code",
   "execution_count": 35,
   "metadata": {
    "collapsed": true
   },
   "outputs": [
    {
     "data": {
      "text/html": [
       "<div class='gpresult'><h2>Messages</h2><div id='messages' data-messages='[\"Start Time: Saturday, December 16, 2023 2:39:55 PM\",\"Succeeded at Saturday, December 16, 2023 2:40:03 PM (Elapsed Time: 7.43 seconds)\"]' data-show='true'><div id = 'default' /></div></div>"
      ],
      "text/plain": [
       "<Result 'C:\\\\Users\\\\15612\\\\Documents\\\\ArcGIS\\\\Projects\\\\Final Project GIS5571\\\\Final Project GIS5571.gdb\\\\Starting_Point'>"
      ]
     },
     "execution_count": 35,
     "metadata": {},
     "output_type": "execute_result"
    }
   ],
   "source": [
    "# Create a point for the starting point within the ArcGIS Pro map\n",
    "\n",
    "starting_point = arcpy.PointGeometry(\n",
    "    arcpy.Point(float(x_starting_point),float(y_starting_point)),\n",
    "    spatial_reference = spatial_ref\n",
    ")\n",
    "\n",
    "arcpy.management.CopyFeatures(\n",
    "    starting_point,\n",
    "    'Starting_Point'\n",
    ")"
   ]
  },
  {
   "cell_type": "markdown",
   "metadata": {},
   "source": [
    "## Gather and prepare DEM data for analysis"
   ]
  },
  {
   "cell_type": "markdown",
   "metadata": {},
   "source": [
    "Intially gather DEM data from the USGS National Map API for the analysis"
   ]
  },
  {
   "cell_type": "code",
   "execution_count": 21,
   "metadata": {
    "collapsed": true
   },
   "outputs": [
    {
     "name": "stdout",
     "output_type": "stream",
     "text": [
      "{'total': 2, 'items': [{'title': 'USGS 1/3 Arc Second n43w110 20220805', 'moreInfo': 'This tile of the 3D Elevation Program (3DEP) seamless products is 1/3 Arc Second resolution. 3DEP data serve as the elevation layer of The National Map, and provide basic elevation information for Earth science studies and mapping applications in the United States. Scientists and resource managers use 3DEP data for global change research, hydrologic modeling, resource monitoring, mapping and visualization, and many other applications. 3DEP data compose an elevation dataset that consists of seamless layers and a high resolution layer. Each of these layers consists of the best available raster elevation data of the conterminous United States, Alaska, Hawaii, territorial islands, Mexico and Canada. 3DEP data are updated continually as [...]', 'sourceId': '62edf5d5d34eacf539725807', 'sourceName': 'ScienceBase', 'sourceOriginId': None, 'sourceOriginName': 'gda', 'metaUrl': 'https://www.sciencebase.gov/catalog/item/62edf5d5d34eacf539725807', 'vendorMetaUrl': 'https://prd-tnm.s3.amazonaws.com/index.html?prefix=StagedProducts/Elevation/metadata/WY_Southwest_2020_D20/WY_Southwest_4_2020', 'publicationDate': '2022-08-05', 'lastUpdated': '2022-08-05T23:02:15.546-06:00', 'dateCreated': '2022-08-05T23:02:13.409-06:00', 'sizeInBytes': 361221053, 'extent': '1 x 1 degree', 'format': 'GeoTIFF', 'downloadURL': 'https://prd-tnm.s3.amazonaws.com/StagedProducts/Elevation/13/TIFF/historical/n43w110/USGS_13_n43w110_20220805.tif', 'downloadURLRaster': None, 'previewGraphicURL': 'https://prd-tnm.s3.amazonaws.com/StagedProducts/Elevation/13/TIFF/historical/n43w110/USGS_13_n43w110_20220805.jpg', 'downloadLazURL': None, 'urls': {'TIFF': 'https://prd-tnm.s3.amazonaws.com/StagedProducts/Elevation/13/TIFF/historical/n43w110/USGS_13_n43w110_20220805.tif'}, 'datasets': [], 'boundingBox': {'minX': -110.00055555659304, 'maxX': -108.9994444435057, 'minY': 41.9994444436071, 'maxY': 43.00055555579519}, 'bestFitIndex': 0.0, 'body': 'This tile of the 3D Elevation Program (3DEP) seamless products is 1/3 Arc Second resolution. 3DEP data serve as the elevation layer of The National Map, and provide basic elevation information for Earth science studies and mapping applications in the United States. Scientists and resource managers use 3DEP data for global change research, hydrologic modeling, resource monitoring, mapping and visualization, and many other applications. 3DEP data compose an elevation dataset that consists of seamless layers and a high resolution layer. Each of these layers consists of the best available raster elevation data of the conterminous United States, Alaska, Hawaii, territorial islands, Mexico and Canada. 3DEP data are updated continually as new data become available. Seamless 3DEP data are derived from diverse source data that are processed to a common coordinate system and unit of vertical measure. These data are distributed in geographic coordinates in units of decimal degrees, and in conformance with the North American Datum of 1983 (NAD 83). All elevation values are in meters and, over the conterminous United States, are referenced to the North American Vertical Datum of 1988 (NAVD 88). The vertical reference will vary in other areas. Seamless 3DEP data are available nationally (except for Alaska) at resolutions of 1 arc-second (approximately 30 meters) and 1/3 arc-second (approximately 10 meters). In most of Alaska, only lower resolution source data are available. As a result, most seamless 3DEP data for Alaska are at 2 arc-second (approximately 60 meters) grid spacing. Part of Alaska is available at the 1 and 1/3 arc-second resolutions from interferometric synthetic aperture radar (ifsar) collections starting in 2010. Plans are in place for collection of statewide ifsar in Alaska. All 3DEP products are public domain.', 'processingUrl': 'processingUrl', 'modificationInfo': '2022-08-06'}, {'title': 'USGS 1/3 Arc Second n44w110 20210615', 'moreInfo': 'This tile of the 3D Elevation Program (3DEP) seamless products is 1/3 Arc Second resolution. 3DEP data serve as the elevation layer of The National Map, and provide basic elevation information for Earth science studies and mapping applications in the United States. Scientists and resource managers use 3DEP data for global change research, hydrologic modeling, resource monitoring, mapping and visualization, and many other applications. 3DEP data compose an elevation dataset that consists of seamless layers and a high resolution layer. Each of these layers consists of the best available raster elevation data of the conterminous United States, Alaska, Hawaii, territorial islands, Mexico and Canada. 3DEP data are updated continually as [...]', 'sourceId': '60e686aed34e2a7685cfec5f', 'sourceName': 'ScienceBase', 'sourceOriginId': None, 'sourceOriginName': 'gda', 'metaUrl': 'https://www.sciencebase.gov/catalog/item/60e686aed34e2a7685cfec5f', 'vendorMetaUrl': 'https://prd-tnm.s3.amazonaws.com/index.html?prefix=StagedProducts/Elevation/metadata/WY_FEMA_East_2019_D19/WY_FEMA_East_B9_2019', 'publicationDate': '2021-11-16', 'lastUpdated': '2021-11-30T23:30:56.493-07:00', 'dateCreated': '2021-07-07T23:01:34.814-06:00', 'sizeInBytes': 418475570, 'extent': '1 x 1 degree', 'format': 'GeoTIFF', 'downloadURL': 'https://prd-tnm.s3.amazonaws.com/StagedProducts/Elevation/13/TIFF/historical/n44w110/USGS_13_n44w110_20210615.tif', 'downloadURLRaster': None, 'previewGraphicURL': 'https://prd-tnm.s3.amazonaws.com/StagedProducts/Elevation/13/TIFF/historical/n44w110/USGS_13_n44w110_20210615.jpg', 'downloadLazURL': None, 'urls': {'TIFF': 'https://prd-tnm.s3.amazonaws.com/StagedProducts/Elevation/13/TIFF/historical/n44w110/USGS_13_n44w110_20210615.tif'}, 'datasets': [], 'boundingBox': {'minX': -110.00055555659304, 'maxX': -108.9994444435057, 'minY': 42.99944444340724, 'maxY': 44.000555556494646}, 'bestFitIndex': 0.0, 'body': 'This tile of the 3D Elevation Program (3DEP) seamless products is 1/3 Arc Second resolution.  3DEP data serve as the elevation layer of The National Map, and provide basic elevation information for Earth science studies and mapping applications in the United States. Scientists and resource managers use 3DEP data for global change research, hydrologic modeling, resource monitoring, mapping and visualization, and many other applications. 3DEP data compose an elevation dataset that consists of seamless layers and a high resolution layer.  Each of these layers consists of the best available raster elevation data of the conterminous United States, Alaska, Hawaii, territorial islands, Mexico and Canada.  3DEP data are updated continually as new data become available. Seamless 3DEP data are derived from diverse source data that are processed to a common coordinate system and unit of vertical measure. These data are distributed in geographic coordinates in units of decimal degrees, and in conformance with the North American Datum of 1983 (NAD 83). All elevation values are in meters and, over the conterminous United States, are referenced to the North American Vertical Datum of 1988 (NAVD 88). The vertical reference will vary in other areas. Seamless 3DEP data are available nationally (except for Alaska) at resolutions of 1 arc-second (approximately 30 meters) and 1/3 arc-second (approximately 10 meters). In most of Alaska, only lower resolution source data are available. As a result, most seamless 3DEP data for Alaska are at 2 arc-second (approximately 60 meters) grid spacing. Part of Alaska is available at the 1 and 1/3 arc-second resolutions from interferometric synthetic aperture radar (ifsar) collections starting in 2010.  Plans are in place for collection of statewide ifsar in Alaska. All 3DEP products are public domain.', 'processingUrl': 'processingUrl', 'modificationInfo': '2021-12-01'}], 'errors': [], 'messages': ['Retrieved 2 item(s) Retrieved (1 through 1000)'], 'sciencebaseQuery': 'https://www.sciencebase.gov/catalog/items?filter=tagslq%3Dtags.scheme%3A%22The+National+Map+Product+Extent+Thesaurus%22+AND+%28tags.name%3A+%221+x+1+degree%22%29&filter=tagslq%3Dtags.scheme%3A%22The+National+Map+Collection+Thesaurus%22+AND+%28tags.name%3A+%22National+Elevation+Dataset+%28NED%29+1%2F3+arc-second+Current%22%29&filter=tagslq%3Dtags.scheme%3A%22The+National+Map+Product+Format+Thesaurus%22+AND+%28tags.name%3A+%22GeoTIFF%22%29&filter=spatialQuery%3D%7B%22wkt%22%3A%22POLYGON%28%28-109.99194334260736+43.37864799423494%2C-109.38769529573213+43.37784949636632%2C-109.40307608805192+42.90408200027132%2C-109.98864741064239+42.908105580871656%2C-109.99304187483716+42.91293351865071%2C+-109.99194334260736+43.37864799423494%29%29%22%2C%22relation%22%3A%22intersects%22%7D&max=1000&offset=0&fields=id%2Ctitle%2Csummary%2Cbody%2Ctags%2CwebLinks%2Cdates%2Cspatial%2Cidentifiers&format=json&sort=title&order=asc', 'filteredOut': 0}\n"
     ]
    }
   ],
   "source": [
    "nat_map_url = input('Enter URL of DEM data from the USGS National Map API: ')\n",
    "\n",
    "# Use requests.get() function for bringing in GeoJSON data\n",
    "nat_map_data = requests.get(nat_map_url)\n",
    "nat_map_json = nat_map_data.json()\n",
    "print(nat_map_json)"
   ]
  },
  {
   "cell_type": "code",
   "execution_count": null,
   "metadata": {},
   "outputs": [],
   "source": [
    "# Create a function to automatically write gathered data into a local folder\n",
    "\n",
    "def write_to_file(obj,file_name):\n",
    "    \n",
    "    with open(file_name,'wb') as file:\n",
    "        file.write(obj.content)"
   ]
  },
  {
   "cell_type": "code",
   "execution_count": 22,
   "metadata": {},
   "outputs": [],
   "source": [
    "# Loop through each item in GeoJSON and use requests.get() function to acquire the data\n",
    "\n",
    "count = 0\n",
    "for item in nat_map_json:\n",
    "    count += 1\n",
    "    DEM = requests.get(item['downloadURL'])\n",
    "    \n",
    "    write_to_file(DEM,folder + '\\DEM\\DEM_' + str(count) + '.tif')\n",
    "    m.addDataFromPath(DEM,folder + '\\DEM\\DEM_' + str(count) + '.tif')"
   ]
  },
  {
   "cell_type": "code",
   "execution_count": null,
   "metadata": {},
   "outputs": [],
   "source": [
    "# Loop through each file in DEM folder path and add all .tif files to a list\n",
    "\n",
    "file_list = glob.glob(os.path.join(folder + '\\DEM','*'))\n",
    "DEM_file_list = []\n",
    "for file in file_list:\n",
    "    if file[-4:] == \".tif\":\n",
    "        DEM_file_list.append(file)\n",
    "        \n",
    "print(DEM_file_list)"
   ]
  },
  {
   "cell_type": "markdown",
   "metadata": {},
   "source": [
    "Merge gathered DEMs together (if needed) and clip using the created Bounding_Box feature class"
   ]
  },
  {
   "cell_type": "code",
   "execution_count": null,
   "metadata": {},
   "outputs": [],
   "source": [
    "# Merge DEMs in list together\n",
    "\n",
    "stitched_DEMs = arcpy.ia.Merge(DEM_file_list)"
   ]
  },
  {
   "cell_type": "code",
   "execution_count": null,
   "metadata": {},
   "outputs": [],
   "source": [
    "# Clip DEMs to area of study\n",
    "\n",
    "clipped_DEM = arcpy.management.Clip(\n",
    "    in_raster = stitched_DEMs,\n",
    "    rectangle = 'Bounding_Box',\n",
    "    out_raster = \"clipped_DEM\"\n",
    ")"
   ]
  },
  {
   "cell_type": "markdown",
   "metadata": {},
   "source": [
    "## Gather and prepare trail data for analysis"
   ]
  },
  {
   "cell_type": "markdown",
   "metadata": {},
   "source": [
    "Initially gather trail data to use in analysis"
   ]
  },
  {
   "cell_type": "code",
   "execution_count": 23,
   "metadata": {},
   "outputs": [],
   "source": [
    "# Enter trail data URL and use requests.get() function to gather data\n",
    "\n",
    "trails_url = input('Enter download URL of preferred trail data: ')\n",
    "\n",
    "transportation = requests.get(trails_url)"
   ]
  },
  {
   "cell_type": "code",
   "execution_count": 25,
   "metadata": {},
   "outputs": [],
   "source": [
    "# Use created \"write_to_file\" function to write the gathered transportation data to a zipfile\n",
    "\n",
    "write_to_file(transportation,folder + '\\Trails\\transport.zip')"
   ]
  },
  {
   "cell_type": "code",
   "execution_count": 26,
   "metadata": {},
   "outputs": [],
   "source": [
    "# Extract all zipfile data to folder\n",
    "\n",
    "with zipfile.ZipFile(folder + '\\Trails\\transport.zip') as transport:\n",
    "    transport.extractall(folder + '\\Trails\\transport')"
   ]
  },
  {
   "cell_type": "code",
   "execution_count": 27,
   "metadata": {
    "collapsed": true
   },
   "outputs": [
    {
     "data": {
      "text/plain": [
       "<arcpy._mp.Layer object at 0x0000028D481C6B80>"
      ]
     },
     "execution_count": 27,
     "metadata": {},
     "output_type": "execute_result"
    }
   ],
   "source": [
    "# Enter the name of the trails file to use in analysis\n",
    "\n",
    "trails_name = input('Enter name of the trails dataset to be used: ')\n",
    "\n",
    "m.addDataFromPath(folder + '\\\\Trails\\\\transport\\\\' + trails_name)"
   ]
  },
  {
   "cell_type": "code",
   "execution_count": null,
   "metadata": {},
   "outputs": [],
   "source": [
    "# Project trails feature to WGS 84\n",
    "\n",
    "arcpy.management.Project(\n",
    "        in_dataset = trails_name,\n",
    "        out_dataset = trails_name + '_project',\n",
    "        out_coor_system = 4326\n",
    "    )"
   ]
  },
  {
   "cell_type": "code",
   "execution_count": null,
   "metadata": {},
   "outputs": [],
   "source": [
    "# Add WGS 84 projection to the Bounding_Box feature\n",
    "\n",
    "arcpy.management.DefineProjection(\n",
    "    in_dataset = 'Bounding_Box',\n",
    "    coor_system = spatial_ref\n",
    ")"
   ]
  },
  {
   "cell_type": "markdown",
   "metadata": {},
   "source": [
    "Clip the trail data to the extent of the analysis"
   ]
  },
  {
   "cell_type": "code",
   "execution_count": null,
   "metadata": {},
   "outputs": [],
   "source": [
    "# Clip polyline trail data to size of the Bounding_Box\n",
    "\n",
    "vec_trail_clip = arcpy.analysis.Clip(\n",
    "    in_features = 'Trans_TrailSegment_project',\n",
    "    clip_features = 'Bounding_Box',\n",
    "    out_feature_class = 'vec_trail_clip'\n",
    ")"
   ]
  },
  {
   "cell_type": "markdown",
   "metadata": {},
   "source": [
    "## Gather and prepare land cover data for analysis"
   ]
  },
  {
   "cell_type": "code",
   "execution_count": 33,
   "metadata": {
    "collapsed": true
   },
   "outputs": [
    {
     "name": "stderr",
     "output_type": "stream",
     "text": [
      "C:\\Program Files\\ArcGIS\\Pro\\bin\\Python\\envs\\arcgispro-py3\\lib\\site-packages\\urllib3\\connectionpool.py:1045: InsecureRequestWarning: Unverified HTTPS request is being made to host 'lulctimeseries.blob.core.windows.net'. Adding certificate verification is strongly advised. See: https://urllib3.readthedocs.io/en/1.26.x/advanced-usage.html#ssl-warnings\n",
      "  warnings.warn(\n"
     ]
    }
   ],
   "source": [
    "# Enter URL for land cover land use Sentinel-2 data\n",
    "\n",
    "land_use_url = input('Enter download URL for Sentinel-2 land cover land use data from the ESRI Living Atlas: ')\n",
    "\n",
    "land_use = requests.get(\n",
    "    land_use_url,\n",
    "    verify = False\n",
    ")\n",
    "\n",
    "write_to_file(land_use,folder + '\\Land Cover\\land_cover.tif')"
   ]
  },
  {
   "cell_type": "code",
   "execution_count": 35,
   "metadata": {
    "collapsed": true
   },
   "outputs": [
    {
     "data": {
      "text/plain": [
       "<arcpy._mp.Layer object at 0x0000028D44EAD700>"
      ]
     },
     "execution_count": 35,
     "metadata": {},
     "output_type": "execute_result"
    }
   ],
   "source": [
    "# Add land cover data to ArcGIS Pro map\n",
    "\n",
    "m.addDataFromPath(folder + '\\Land Cover\\land_cover.tif')"
   ]
  },
  {
   "cell_type": "code",
   "execution_count": null,
   "metadata": {},
   "outputs": [],
   "source": [
    "# Make cell size for raster analyses equal to a 10-meter spatial resolution\n",
    "\n",
    "arcpy.env.cellSize = folder + '\\Land Cover\\land_cover.tif'"
   ]
  },
  {
   "cell_type": "markdown",
   "metadata": {},
   "source": [
    "Clip the land cover data to the extent of the analysis"
   ]
  },
  {
   "cell_type": "code",
   "execution_count": 36,
   "metadata": {},
   "outputs": [],
   "source": [
    "# Clip land cover to Bounding_Box feature\n",
    "\n",
    "clipped_land_cover = arcpy.management.Clip(\n",
    "    in_raster = folder + '\\Land Cover\\land_cover.tif',\n",
    "    rectangle = \"Bounding_Box\",\n",
    "    out_raster = \"clipped_land_cover\"\n",
    ")"
   ]
  },
  {
   "cell_type": "markdown",
   "metadata": {},
   "source": [
    "# Important: Please run \"Streams, Rivers, and Trails\" notebook here\n",
    "\n",
    "Due to issues with the ArcGIS Pro raster calculator, the extent within the environment will cause an unresolved error to occur. Due to this, please move to running the \"Streams, Rivers, and Trails\" notebook for this section of the analysis. Once that notebook is run, move back to this notebook and continue at \"Begin creating cost surfaces\"."
   ]
  },
  {
   "cell_type": "markdown",
   "metadata": {},
   "source": [
    "## Begin creating cost surfaces"
   ]
  },
  {
   "cell_type": "markdown",
   "metadata": {},
   "source": [
    "Create the original slope raster"
   ]
  },
  {
   "cell_type": "code",
   "execution_count": 1,
   "metadata": {
    "collapsed": true
   },
   "outputs": [
    {
     "ename": "NameError",
     "evalue": "name 'arcpy' is not defined",
     "output_type": "error",
     "traceback": [
      "\u001b[1;31m---------------------------------------------------------------------------\u001b[0m",
      "\u001b[1;31mNameError\u001b[0m                                 Traceback (most recent call last)",
      "\u001b[1;32m~\\AppData\\Local\\Temp\\ipykernel_14724\\1758149034.py\u001b[0m in \u001b[0;36m<module>\u001b[1;34m\u001b[0m\n\u001b[0;32m      1\u001b[0m \u001b[1;31m# Create a slope raster using the DEM and ensure the values are in angle degrees\u001b[0m\u001b[1;33m\u001b[0m\u001b[1;33m\u001b[0m\u001b[0m\n\u001b[0;32m      2\u001b[0m \u001b[1;33m\u001b[0m\u001b[0m\n\u001b[1;32m----> 3\u001b[1;33m slope_raster = arcpy.sa.Slope(\n\u001b[0m\u001b[0;32m      4\u001b[0m     \u001b[0mclipped_DEM\u001b[0m\u001b[1;33m,\u001b[0m\u001b[1;33m\u001b[0m\u001b[1;33m\u001b[0m\u001b[0m\n\u001b[0;32m      5\u001b[0m     \u001b[1;34m\"DEGREE\"\u001b[0m\u001b[1;33m\u001b[0m\u001b[1;33m\u001b[0m\u001b[0m\n",
      "\u001b[1;31mNameError\u001b[0m: name 'arcpy' is not defined"
     ]
    }
   ],
   "source": [
    "# Create a slope raster using the DEM and ensure the values are in angle degrees\n",
    "\n",
    "slope_raster = arcpy.sa.Slope(\n",
    "    clipped_DEM,\n",
    "    \"DEGREE\"\n",
    ")"
   ]
  },
  {
   "cell_type": "markdown",
   "metadata": {},
   "source": [
    "#### Weight the land cover raster based on land cover types:"
   ]
  },
  {
   "cell_type": "markdown",
   "metadata": {},
   "source": [
    "Open water = \"NODATA\""
   ]
  },
  {
   "cell_type": "markdown",
   "metadata": {},
   "source": [
    "Forest = 3"
   ]
  },
  {
   "cell_type": "markdown",
   "metadata": {},
   "source": [
    "Farmland and Flooded Vegetation = 4"
   ]
  },
  {
   "cell_type": "markdown",
   "metadata": {},
   "source": [
    "Snow and Ice = 9"
   ]
  },
  {
   "cell_type": "markdown",
   "metadata": {},
   "source": [
    "All other land cover types = 2"
   ]
  },
  {
   "cell_type": "code",
   "execution_count": 41,
   "metadata": {},
   "outputs": [],
   "source": [
    "# Use Reclassify tool to weight land cover types based on difficulty to traverse by foot\n",
    "\n",
    "weighted_land_use_no_water = arcpy.sa.Reclassify(\n",
    "    \"clipped_land_cover\",\n",
    "    \"Value\",\n",
    "    arcpy.sa.RemapValue([[0,0,2],[1,1,'NODATA'],[2,2,3],[3,3,2],[4,4,4],[5,5,4],[6,6,2],[7,8,2],[9,9,9],[10,10,2],[11,255,2]])\n",
    ")"
   ]
  },
  {
   "cell_type": "markdown",
   "metadata": {},
   "source": [
    "## Combine all rasters together"
   ]
  },
  {
   "cell_type": "markdown",
   "metadata": {},
   "source": [
    "Combine the raster defining rivers and streams with the created weighted land use raster dataset"
   ]
  },
  {
   "cell_type": "code",
   "execution_count": 56,
   "metadata": {},
   "outputs": [],
   "source": [
    "# Combine the rivers_and_streams raster with the weighted_land_use_no_water raster using a conditional statement\n",
    "\n",
    "updated_land_use = arcpy.sa.Con(\n",
    "    in_conditional_raster = 'rivers_and_streams',\n",
    "    in_true_raster_or_constant = 'weighted_land_use_no_water',\n",
    "    in_false_raster_or_constant = 'rivers_and_streams',\n",
    "    where_clause = '\"Value\" = 1'\n",
    ")"
   ]
  },
  {
   "cell_type": "code",
   "execution_count": 57,
   "metadata": {},
   "outputs": [],
   "source": [
    "# Create a raster equal to 1 outside of \"NODATA\" areas to clean the updated_land_use raster\n",
    "\n",
    "water_no_data = arcpy.sa.Reclassify(\n",
    "    in_raster = 'weighted_land_use_no_water',\n",
    "    reclass_field = 'Value',\n",
    "    remap = arcpy.sa.RemapRange([[1,9,1]])\n",
    ")"
   ]
  },
  {
   "cell_type": "code",
   "execution_count": 58,
   "metadata": {
    "collapsed": true
   },
   "outputs": [
    {
     "data": {
      "text/plain": [
       "<arcpy._mp.Layer object at 0x0000028D4598EBE0>"
      ]
     },
     "execution_count": 58,
     "metadata": {},
     "output_type": "execute_result"
    }
   ],
   "source": [
    "# Multiply the updated_land_use and water_no_data rasters together\n",
    "\n",
    "final_land_cover = arcpy.sa.RasterCalculator(\n",
    "    ['updated_land_use','water_no_data'],\n",
    "    ['x','y'],\n",
    "    'x * y'\n",
    ")\n",
    "\n",
    "\n",
    "# Add raster to map\n",
    "\n",
    "final_land_cover.save(folder + '\\Final Land Cover\\final_land_cover.tif')\n",
    "m.addDataFromPath(folder + '\\Final Land Cover\\final_land_cover.tif')"
   ]
  },
  {
   "cell_type": "markdown",
   "metadata": {},
   "source": [
    "Combine the trails_reclass raster with the final_land_cover.tif raster"
   ]
  },
  {
   "cell_type": "code",
   "execution_count": 59,
   "metadata": {},
   "outputs": [],
   "source": [
    "# Use a conditional statement to combine trail data with the land cover data\n",
    "\n",
    "final_land_trails = arcpy.sa.Con(\n",
    "    in_conditional_raster = 'trails_reclass',\n",
    "    in_true_raster_or_constant = 'final_land_cover.tif',\n",
    "    in_false_raster_or_constant = 'trails_reclass',\n",
    "    where_clause = '\"Value\" = 0'\n",
    ")"
   ]
  },
  {
   "cell_type": "markdown",
   "metadata": {},
   "source": [
    "Combine the trails_reclass raster with the slope_raster raster"
   ]
  },
  {
   "cell_type": "markdown",
   "metadata": {},
   "source": [
    "This will assign a value of 1 to the trails raster, the lowest value within the final cost surface. This allows the optimal path to follow trails if they are present.  "
   ]
  },
  {
   "cell_type": "code",
   "execution_count": 64,
   "metadata": {
    "collapsed": true
   },
   "outputs": [
    {
     "data": {
      "text/plain": [
       "<arcpy._mp.Layer object at 0x0000028D4598E190>"
      ]
     },
     "execution_count": 64,
     "metadata": {},
     "output_type": "execute_result"
    }
   ],
   "source": [
    "# Use a conditional statement to combine trail data with the slope data\n",
    "\n",
    "slope_trails = arcpy.sa.Con(\n",
    "    in_conditional_raster = 'trails_reclass',\n",
    "    in_true_raster_or_constant = 'slope_raster',\n",
    "    in_false_raster_or_constant = 'trails_reclass',\n",
    "    where_clause = '\"Value\" = 0'\n",
    ")"
   ]
  },
  {
   "cell_type": "markdown",
   "metadata": {},
   "source": [
    "## Create final cost surfaces and optimal paths"
   ]
  },
  {
   "cell_type": "markdown",
   "metadata": {},
   "source": [
    "Create individual preference cost surfaces"
   ]
  },
  {
   "cell_type": "code",
   "execution_count": 10,
   "metadata": {
    "collapsed": true
   },
   "outputs": [
    {
     "ename": "RuntimeError",
     "evalue": "Failed to apply Raster Function: 'RasterCalculator' (The parameter is incorrect. \nParameter 'Rasters' is missing or invalid. Bind failed in function 'Raster Calculator Function' [Raster Calculator Function].)",
     "output_type": "error",
     "traceback": [
      "\u001b[0;31m---------------------------------------------------------------------------\u001b[0m\n\u001b[0;31mRuntimeError\u001b[0m                              Traceback (most recent call last)",
      "In  \u001b[0;34m[10]\u001b[0m:\nLine \u001b[0;34m13\u001b[0m:    cs = arcpy.sa.RasterCalculator(\n",
      "File \u001b[0;34mC:\\Program Files\\ArcGIS\\Pro\\Resources\\ArcPy\\arcpy\\ia\\raster_functions.py\u001b[0m, in \u001b[0;32mRasterCalculator\u001b[0m:\nLine \u001b[0;34m1541\u001b[0m:  \u001b[34mreturn\u001b[39;49;00m Apply(rasters, template_dict[\u001b[33m'\u001b[39;49;00m\u001b[33mrasterFunction\u001b[39;49;00m\u001b[33m'\u001b[39;49;00m], template_dict[\u001b[33m'\u001b[39;49;00m\u001b[33mrasterFunctionArguments\u001b[39;49;00m\u001b[33m'\u001b[39;49;00m])\n",
      "File \u001b[0;34mC:\\Program Files\\ArcGIS\\Pro\\Resources\\ArcPy\\arcpy\\ia\\_ia.py\u001b[0m, in \u001b[0;32mApply\u001b[0m:\nLine \u001b[0;34m135\u001b[0m:   \u001b[34mreturn\u001b[39;49;00m arcgisscripting._ia.Apply(in_raster=in_raster,\n",
      "\u001b[0;31mRuntimeError\u001b[0m: Failed to apply Raster Function: 'RasterCalculator' (The parameter is incorrect. \nParameter 'Rasters' is missing or invalid. Bind failed in function 'Raster Calculator Function' [Raster Calculator Function].)\n\u001b[0;31m---------------------------------------------------------------------------\u001b[0m"
     ]
    }
   ],
   "source": [
    "# Create for loop from a list containing values of 0.1 to 0.9 in increments of 0.1\n",
    "\n",
    "for num in range(1,10):\n",
    "    slope_weight = round(num*0.1, 1)\n",
    "    land_cover_weight = round(1-num*0.1, 1)\n",
    "    \n",
    "    # Multiply slope_trails and final_land_trails by the weight multipliers \n",
    "    slope_rast = arcpy.sa.Raster('slope_trails') * slope_weight\n",
    "    land_cover_rast = arcpy.sa.Raster('final_land_trails') * land_cover_weight\n",
    "    \n",
    "    # Add these created rasters to ArcGIS Pro map\n",
    "    slope_rast.save(folder + '\\Slopes\\weighted_slope_' + str(num) + '.tif')\n",
    "    land_cover_rast.save(folder + '\\Land Uses\\weighted_land_' + str(num) + '.tif')\n",
    "    \n",
    "    m.addDataFromPath(folder + '\\Slopes\\weighted_slope_' + str(num) + '.tif')\n",
    "    m.addDataFromPath(folder + '\\Land Uses\\weighted_land_' + str(num) + '.tif')\n",
    "    \n",
    "    # Add each of these created rasters together to form a series of cost surfaces\n",
    "    cs = arcpy.sa.RasterCalculator(\n",
    "            rasters = ['weighted_slope_' + str(num) + '.tif',\n",
    "             'weighted_land_' + str(num) + '.tif'],\n",
    "            input_names = ['x','y'],\n",
    "            expression = 'x + y'\n",
    "        )\n",
    "    \n",
    "    # Add cost surfaces to ArcGIS Pro map\n",
    "    cs.save(folder + '\\Cost Surfaces\\CS_' + str(num) + '.tif')  \n",
    "    m.addDataFromPath(folder + '\\Cost Surfaces\\CS_' + str(num) + '.tif')"
   ]
  },
  {
   "cell_type": "markdown",
   "metadata": {},
   "source": [
    "Create main cost surface"
   ]
  },
  {
   "cell_type": "code",
   "execution_count": 65,
   "metadata": {
    "collapsed": true
   },
   "outputs": [
    {
     "data": {
      "text/plain": [
       "<arcpy._mp.Layer object at 0x0000028D4598E400>"
      ]
     },
     "execution_count": 65,
     "metadata": {},
     "output_type": "execute_result"
    }
   ],
   "source": [
    "# Create the main cost surface by simply multiplying both the final_land_trails and slope_trails rasters together\n",
    "\n",
    "cost_surface = arcpy.sa.RasterCalculator(\n",
    "    ['final_land_trails','slope_trails'],\n",
    "    ['x','y'],\n",
    "    'x * y'\n",
    ")\n",
    "\n",
    "cost_surface.save(folder + '\\Cost Surfaces\\Main_CS.tif')\n",
    "m.addDataFromPath(folder + '\\Cost Surfaces\\Main_CS.tif')"
   ]
  },
  {
   "cell_type": "markdown",
   "metadata": {},
   "source": [
    "Create individual preference optimal paths"
   ]
  },
  {
   "cell_type": "code",
   "execution_count": 7,
   "metadata": {},
   "outputs": [],
   "source": [
    "# Create for loop to calculate the optimal paths for each individual preference cost surface\n",
    "\n",
    "for num in range(1,10):\n",
    "    \n",
    "    # Create distance accumulation raster using the starting point and cost surface while outputting the back direction raster for each cost surface\n",
    "    dist_accu = arcpy.sa.DistanceAccumulation(\n",
    "        in_source_data = \"Starting_Point\",\n",
    "        in_cost_raster = 'CS_' + str(num) + '.tif',\n",
    "        out_back_direction_raster = 'back_dir_' + str(num),\n",
    "        source_direction = 'FROM_SOURCE'\n",
    "    )\n",
    "    \n",
    "    # Create optimal paths for each individual preference using the destination, distance accumulation, and back direction rasters\n",
    "    optimal_path = arcpy.sa.OptimalPathAsLine(\n",
    "        in_destination_data = \"Destination\",\n",
    "        in_distance_accumulation_raster = dist_accu,\n",
    "        in_back_direction_raster = 'back_dir_' + str(num),\n",
    "        out_polyline_features = 'Optimal_Path_' + str(num),\n",
    "        destination_field = 'OBJECTID',\n",
    "        path_type = \"BEST_SINGLE\"\n",
    "    )"
   ]
  },
  {
   "cell_type": "markdown",
   "metadata": {},
   "source": [
    "Create main optimal path"
   ]
  },
  {
   "cell_type": "code",
   "execution_count": 36,
   "metadata": {},
   "outputs": [],
   "source": [
    "# Create main distance accumulation raster using the starting point and main cost surface while outputting the main back direction raster\n",
    "dist_accu = arcpy.sa.DistanceAccumulation(\n",
    "        in_source_data = \"Starting_Point\",\n",
    "        in_cost_raster = 'Main_CS.tif',\n",
    "        out_back_direction_raster = 'back_dir',\n",
    "        source_direction = 'FROM_SOURCE'\n",
    "    )\n",
    "\n",
    "# Create main optimal path using the destination, distance accumulation, and main back direction raster\n",
    "optimal_path = arcpy.sa.OptimalPathAsLine(\n",
    "        in_destination_data = \"Destination\",\n",
    "        in_distance_accumulation_raster = dist_accu,\n",
    "        in_back_direction_raster = 'back_dir',\n",
    "        out_polyline_features = 'Main_Optimal_Path',\n",
    "        destination_field = 'OBJECTID',\n",
    "        path_type = \"EACH_CELL\"\n",
    "    )"
   ]
  }
 ],
 "metadata": {
  "kernelspec": {
   "display_name": "Python 3 (ipykernel)",
   "language": "python",
   "name": "python3"
  },
  "language_info": {
   "codemirror_mode": {
    "name": "ipython",
    "version": 3
   },
   "file_extension": ".py",
   "mimetype": "text/x-python",
   "name": "python",
   "nbconvert_exporter": "python",
   "pygments_lexer": "ipython3",
   "version": "3.9.13"
  }
 },
 "nbformat": 4,
 "nbformat_minor": 2
}
