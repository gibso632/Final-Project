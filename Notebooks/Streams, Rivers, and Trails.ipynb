{
 "cells": [
  {
   "cell_type": "markdown",
   "id": "a5e001d7",
   "metadata": {},
   "source": [
    "## Use this notebook to create rivers_and_streams and trails rasters"
   ]
  },
  {
   "cell_type": "markdown",
   "id": "69514cd9",
   "metadata": {},
   "source": [
    "Once this notebook has been run, return to the \"Gathering Data and Creating Optimal Paths\" notebook for final analysis."
   ]
  },
  {
   "cell_type": "code",
   "execution_count": 2,
   "id": "13de4c7c",
   "metadata": {
    "collapsed": true
   },
   "outputs": [
    {
     "name": "stdout",
     "output_type": "stream",
     "text": [
      "45.5\n",
      "-109.56\n",
      "46.4\n",
      "-106.45\n",
      "C:\\Users\\15612\\Documents\\GIS-5571\\Final Project\n"
     ]
    }
   ],
   "source": [
    "# Add data from \"Gathering Data and Creating Optimal Paths\" notebook\n",
    "\n",
    "%store -r east\n",
    "%store -r west\n",
    "%store -r north\n",
    "%store -r south\n",
    "\n",
    "print(east)\n",
    "print(west)\n",
    "print(north)\n",
    "print(south)\n",
    "\n",
    "%store -r folder\n",
    "\n",
    "print(folder)"
   ]
  },
  {
   "cell_type": "code",
   "execution_count": null,
   "id": "1608faa6",
   "metadata": {},
   "outputs": [],
   "source": [
    "project = arcpy.mp.ArcGISProject(\"CURRENT\")\n",
    "m = project.listMaps(\"Map\")[0]\n",
    "spatial_ref = arcpy.SpatialReference(4326)\n",
    "arcpy.env.extent = arcpy.Extent(east,north,west,south)\n",
    "arcpy.env.cellSize = folder + '\\Land Cover\\land_cover.tif'"
   ]
  },
  {
   "cell_type": "markdown",
   "id": "4a7b67a0",
   "metadata": {},
   "source": [
    "## Creation of rivers and streams raster dataset"
   ]
  },
  {
   "cell_type": "code",
   "execution_count": null,
   "id": "74bc523d",
   "metadata": {},
   "outputs": [],
   "source": [
    "# Create flow accumulation raster dataset for building rivers and streams raster dataset\n",
    "\n",
    "fill_raster = arcpy.sa.Fill('clipped_DEM')\n",
    "\n",
    "flow_dir = arcpy.sa.FlowDirection(fill_raster)\n",
    "\n",
    "flow_acc = arcpy.sa.FlowAccumulation(flow_dir)"
   ]
  },
  {
   "cell_type": "markdown",
   "id": "6cae3c60",
   "metadata": {},
   "source": [
    "Create the streams raster using the flow accumulation raster dataset"
   ]
  },
  {
   "cell_type": "code",
   "execution_count": null,
   "id": "beb0071c",
   "metadata": {},
   "outputs": [],
   "source": [
    "# Make a streams raster using only flow accumulation values above 5000\n",
    "\n",
    "stream = arcpy.sa.RasterCalculator(\n",
    "    ['flow_acc'],\n",
    "    [\"x\"],\n",
    "    \"x > 5000\"\n",
    ")\n",
    "\n",
    "water_calc.save(\\Water Calc Test\\stream.tif')\n",
    "\n",
    "m.addDataFromPath(r'C:\\Users\\15612\\Documents\\GIS-5571\\Final Project\\Water Calc Test\\stream.tif')"
   ]
  },
  {
   "cell_type": "code",
   "execution_count": 3,
   "id": "b4bd9b1a",
   "metadata": {
    "collapsed": true
   },
   "outputs": [
    {
     "ename": "NameError",
     "evalue": "name 'arcpy' is not defined",
     "output_type": "error",
     "traceback": [
      "\u001b[1;31m---------------------------------------------------------------------------\u001b[0m",
      "\u001b[1;31mNameError\u001b[0m                                 Traceback (most recent call last)",
      "\u001b[1;32m~\\AppData\\Local\\Temp\\ipykernel_36740\\669262454.py\u001b[0m in \u001b[0;36m<module>\u001b[1;34m\u001b[0m\n\u001b[0;32m      1\u001b[0m \u001b[1;31m# Reclassify all values of 0 to\u001b[0m\u001b[1;33m\u001b[0m\u001b[1;33m\u001b[0m\u001b[0m\n\u001b[0;32m      2\u001b[0m \u001b[1;33m\u001b[0m\u001b[0m\n\u001b[1;32m----> 3\u001b[1;33m streams_null = arcpy.sa.Reclassify(\n\u001b[0m\u001b[0;32m      4\u001b[0m     \u001b[0min_raster\u001b[0m \u001b[1;33m=\u001b[0m \u001b[1;34m'streams.tif'\u001b[0m\u001b[1;33m,\u001b[0m\u001b[1;33m\u001b[0m\u001b[1;33m\u001b[0m\u001b[0m\n\u001b[0;32m      5\u001b[0m     \u001b[0mreclass_field\u001b[0m \u001b[1;33m=\u001b[0m \u001b[1;34m'Value'\u001b[0m\u001b[1;33m,\u001b[0m\u001b[1;33m\u001b[0m\u001b[1;33m\u001b[0m\u001b[0m\n",
      "\u001b[1;31mNameError\u001b[0m: name 'arcpy' is not defined"
     ]
    }
   ],
   "source": [
    "# Reclassify all values of 0 to \"NODATA\"\n",
    "\n",
    "streams_null = arcpy.sa.Reclassify(\n",
    "    in_raster = 'streams.tif',\n",
    "    reclass_field = 'Value',\n",
    "    remap = arcpy.sa.RemapValue([[0,'NODATA']])\n",
    ")"
   ]
  },
  {
   "cell_type": "code",
   "execution_count": null,
   "id": "239ea24f",
   "metadata": {},
   "outputs": [],
   "source": [
    "# Create a polyline from the 'streams_null' raster\n",
    "\n",
    "streams = arcpy.conversion.RasterToPolyline(\n",
    "    in_raster = 'streams_null',\n",
    "    out_polyline_features = 'streams'\n",
    ")"
   ]
  },
  {
   "cell_type": "code",
   "execution_count": null,
   "id": "98ff12a4",
   "metadata": {},
   "outputs": [],
   "source": [
    "# Create a buffer around the polyline of 7.5 meters for the streams dataset\n",
    "\n",
    "streams_buf = arcpy.analysis.Buffer(\n",
    "    in_features = 'streams',\n",
    "    out_feature_class = 'streams_buf',\n",
    "    buffer_distance_or_field = '7.5 Meters'\n",
    ")"
   ]
  },
  {
   "cell_type": "code",
   "execution_count": null,
   "id": "89a002a9",
   "metadata": {},
   "outputs": [],
   "source": [
    "# Create a raster from the buffer feature\n",
    "\n",
    "arcpy.conversion.PolygonToRaster(\n",
    "    in_features = 'streams_buf',\n",
    "    value_field = 'grid_code',\n",
    "    out_rasterdataset = 'streams_wide'\n",
    ")"
   ]
  },
  {
   "cell_type": "code",
   "execution_count": null,
   "id": "99529299",
   "metadata": {},
   "outputs": [],
   "source": [
    "# Reclassify the 'streams_wide' raster to change \"NODATA\" values to 1 and values of 1 to 10\n",
    "\n",
    "streams_wide_reclass = arcpy.sa.Reclassify(\n",
    "    in_raster = 'streams_wide',\n",
    "    reclass_field = 'Value',\n",
    "    remap = arcpy.sa.RemapValue([['NODATA',1],[1,10]])\n",
    ")"
   ]
  },
  {
   "cell_type": "markdown",
   "id": "67aaf619",
   "metadata": {},
   "source": [
    "Create the rivers raster dataset using the flow accumulation raster dataset"
   ]
  },
  {
   "cell_type": "code",
   "execution_count": null,
   "id": "a847e01e",
   "metadata": {},
   "outputs": [],
   "source": [
    "# Make a rivers raster utilizing only flow accumulation values above 500000\n",
    "\n",
    "river = arcpy.sa.RasterCalculator(\n",
    "    ['flow_acc'],\n",
    "    [\"x\"],\n",
    "    \"x > 500000\"\n",
    ")\n",
    "\n",
    "river.save(r'C:\\Users\\15612\\Documents\\GIS-5571\\Final Project\\Water Calc Test\\river.tif')\n",
    "\n",
    "m.addDataFromPath(r'C:\\Users\\15612\\Documents\\GIS-5571\\Final Project\\Water Calc Test\\river.tif')"
   ]
  },
  {
   "cell_type": "code",
   "execution_count": null,
   "id": "169529ba",
   "metadata": {},
   "outputs": [],
   "source": [
    "# Reclassify all values of 0 to \"NODATA\"\n",
    "\n",
    "river_null = arcpy.sa.Reclassify(\n",
    "    in_raster = river,\n",
    "    reclass_field = 'Value',\n",
    "    remap = arcpy.sa.RemapValue([[0,'NODATA']])\n",
    ")"
   ]
  },
  {
   "cell_type": "code",
   "execution_count": null,
   "id": "b7a3254e",
   "metadata": {},
   "outputs": [],
   "source": [
    "# Create a polyline feature from the 'river_null' raster dataset\n",
    "\n",
    "rivers = arcpy.conversion.RasterToPolyline(\n",
    "    in_raster = 'river_null.tif',\n",
    "    out_polyline_features = 'rivers'\n",
    ")"
   ]
  },
  {
   "cell_type": "code",
   "execution_count": null,
   "id": "31aec990",
   "metadata": {},
   "outputs": [],
   "source": [
    "# Create a buffer around the polyline feature class of 15 meters\n",
    "\n",
    "rivers_buf = arcpy.analysis.Buffer(\n",
    "    in_features = 'rivers',\n",
    "    out_feature_class = 'rivers_buf',\n",
    "    buffer_distance_or_field = '15 Meters'\n",
    ")"
   ]
  },
  {
   "cell_type": "code",
   "execution_count": null,
   "id": "75e23fde",
   "metadata": {},
   "outputs": [],
   "source": [
    "# Create a raster from the 15-meter buffer feature class\n",
    "\n",
    "arcpy.conversion.PolygonToRaster(\n",
    "    in_features = 'rivers_buf',\n",
    "    value_field = 'grid_code',\n",
    "    out_rasterdataset = 'rivers_wide'\n",
    ")"
   ]
  },
  {
   "cell_type": "code",
   "execution_count": null,
   "id": "ba4fb475",
   "metadata": {},
   "outputs": [],
   "source": [
    "# Reclassify the 'rivers_wide' raster dataset to change \"NODATA\" values to 1 and values of 1 to 50\n",
    "\n",
    "rivers_final = arcpy.sa.Reclassify(\n",
    "    in_raster = 'rivers_wide',\n",
    "    reclass_field = 'Value',\n",
    "    remap = arcpy.sa.RemapValue([['NODATA',1],[1,50]])\n",
    ")"
   ]
  },
  {
   "cell_type": "markdown",
   "id": "2f4237c1",
   "metadata": {},
   "source": [
    "Combine the rivers and streams raster into one"
   ]
  },
  {
   "cell_type": "code",
   "execution_count": null,
   "id": "e2bcfade",
   "metadata": {},
   "outputs": [],
   "source": [
    "# Combine the streams and rivers raster datasets together to form the final rivers_and_streams dataset\n",
    "\n",
    "rivers_and_streams = arcpy.sa.Con(\n",
    "    in_conditional_raster = 'rivers_final',\n",
    "    in_true_raster_or_constant = 'streams_wide_reclass',\n",
    "    in_false_raster_or_constant = 'rivers_final',\n",
    "    where_clause = '\"Value\" = 1'\n",
    ")"
   ]
  },
  {
   "cell_type": "markdown",
   "id": "102221bf",
   "metadata": {},
   "source": [
    "Create the trails raster dataset"
   ]
  },
  {
   "cell_type": "code",
   "execution_count": null,
   "id": "a66a7328",
   "metadata": {},
   "outputs": [],
   "source": [
    "# Convert polyline trail data to a raster dataset\n",
    "\n",
    "trails = arcpy.conversion.PolylineToRaster(\n",
    "    in_features = 'vec_trail_clip',\n",
    "    value_field = 'OBJECTID',\n",
    "    out_rasterdataset = 'trails'\n",
    ")"
   ]
  },
  {
   "cell_type": "code",
   "execution_count": null,
   "id": "ffb6f679",
   "metadata": {},
   "outputs": [],
   "source": [
    "# Iterate through each value in the created 'trails' raster to find the number of trails to reclassify\n",
    "\n",
    "num = 0\n",
    "with arcpy.da.SearchCursor('trails','Value') as cursor:\n",
    "    for row in cursor:\n",
    "        num += 1\n",
    "        \n",
    "#print(num)"
   ]
  },
  {
   "cell_type": "code",
   "execution_count": null,
   "id": "e3bef85e",
   "metadata": {},
   "outputs": [],
   "source": [
    "# Reclassify all values not equal to \"NODATA\" to 1 and all other values equal to 1\n",
    "\n",
    "trails_reclass = arcpy.sa.Reclassify(\n",
    "    in_raster = 'trails',\n",
    "    reclass_field = 'Value',\n",
    "    remap = arcpy.sa.RemapRange([[1,num,1],['NODATA',0]])\n",
    ")"
   ]
  }
 ],
 "metadata": {
  "kernelspec": {
   "display_name": "Python 3 (ipykernel)",
   "language": "python",
   "name": "python3"
  },
  "language_info": {
   "codemirror_mode": {
    "name": "ipython",
    "version": 3
   },
   "file_extension": ".py",
   "mimetype": "text/x-python",
   "name": "python",
   "nbconvert_exporter": "python",
   "pygments_lexer": "ipython3",
   "version": "3.9.13"
  }
 },
 "nbformat": 4,
 "nbformat_minor": 5
}
